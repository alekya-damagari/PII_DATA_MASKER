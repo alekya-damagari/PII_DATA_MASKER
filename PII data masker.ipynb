{
 "cells": [
  {
   "cell_type": "markdown",
   "id": "b258b865",
   "metadata": {},
   "source": [
    "# Broadridge India Innovation Hackathon \n",
    "# Title : PII data masker "
   ]
  },
  {
   "cell_type": "markdown",
   "id": "ae9f5fa3",
   "metadata": {},
   "source": [
    "Problem statemenet: Many organisations collect and process huge amounts of PII information, such as names, aadhaar numbers, credit card numbers and email addresses, which are subject to privacy laws and regulations such as GDPR, CCPA. Failing to protect this information results in legal action, penalties and reputational damages. However, traditional manual techniques for detecting and masking PII data are complex and prone to error processes that can be time consuming for organisations. A dependable automated system that can solve this problem is necessary in this situation. "
   ]
  },
  {
   "cell_type": "code",
   "execution_count": 1,
   "id": "d20f34b0",
   "metadata": {},
   "outputs": [],
   "source": [
    "# Data collection(data can be created using faker library)\n",
    "from faker import Faker\n",
    "import csv\n",
    "\n",
    "fake = Faker()\n",
    "\n",
    "num_records = 1000\n",
    "\n",
    "fields = ['Name', 'Social Security Number', 'Email', 'Phone number', 'Country']\n",
    "faker_methods = [fake.name, fake.ssn, fake.email, fake.phone_number, fake.country]\n",
    "\n",
    "with open('dataset.csv', 'w', newline='') as file:\n",
    "    writer = csv.writer(file)\n",
    "    writer.writerow(fields)\n",
    "    for _ in range(num_records):\n",
    "        row = [method() for method in faker_methods]\n",
    "        writer.writerow(row)"
   ]
  },
  {
   "cell_type": "code",
   "execution_count": 2,
   "id": "c128369c",
   "metadata": {},
   "outputs": [],
   "source": [
    "# importing necessary libraries\n",
    "import pandas as pd\n",
    "import random\n",
    "import string"
   ]
  },
  {
   "cell_type": "code",
   "execution_count": 3,
   "id": "0ed04a01",
   "metadata": {},
   "outputs": [],
   "source": [
    "# Identifying PII data types\n",
    "pii_columns = ['Name', 'Social Security Number', 'Email', 'Phone number']\n",
    "\n",
    "sensitive_columns = pii_columns"
   ]
  },
  {
   "cell_type": "code",
   "execution_count": 4,
   "id": "b2784703",
   "metadata": {},
   "outputs": [],
   "source": [
    "# Randomization ( using random module to create random strings)\n",
    "\n",
    "def randomize_string(length):\n",
    "    return ''.join(random.choices(string.ascii_letters + string.digits, k=length))\n",
    "\n",
    "def randomize_data(data):\n",
    "    return randomize_string(len(data))"
   ]
  },
  {
   "cell_type": "code",
   "execution_count": 5,
   "id": "ed54c3ae",
   "metadata": {},
   "outputs": [],
   "source": [
    "# Substitution of PII data\n",
    "\n",
    "def substitute_email(data):\n",
    "    return 'example@gmail.com'\n",
    "\n",
    "def substitute_phone(data):\n",
    "    return '**********'\n"
   ]
  },
  {
   "cell_type": "code",
   "execution_count": 6,
   "id": "bdfe97be",
   "metadata": {},
   "outputs": [],
   "source": [
    "masking_rules = {\n",
    "    'Name': randomize_data,\n",
    "    'Social Security Number': randomize_data,\n",
    "    'Email': substitute_email,\n",
    "    'Phone number': substitute_phone\n",
    "}"
   ]
  },
  {
   "cell_type": "code",
   "execution_count": 7,
   "id": "21458705",
   "metadata": {},
   "outputs": [],
   "source": [
    "# Apply masking techniques to the dataset\n",
    "def mask_dataset(dataset):\n",
    "    masked_dataset = dataset.copy()\n",
    "    for column in sensitive_columns:\n",
    "        if column in masked_dataset.columns:\n",
    "            masked_dataset[column] = dataset[column].apply(masking_rules[column])\n",
    "    return masked_dataset"
   ]
  },
  {
   "cell_type": "code",
   "execution_count": 8,
   "id": "ba45666b",
   "metadata": {},
   "outputs": [],
   "source": [
    "# Read the dataset from CSV\n",
    "dataset = pd.read_csv('dataset.csv')  \n",
    "# Excluding the \"Country\" column from masking\n",
    "sensitive_columns = [column for column in sensitive_columns if column in dataset.columns]\n",
    "# Masking the dataset\n",
    "masked_dataset = mask_dataset(dataset)\n",
    "# Writing the masked dataset to CSV\n",
    "masked_dataset.to_csv('masked_dataset.csv', index=False)\n",
    "masked_data = pd.read_csv('masked_dataset.csv')"
   ]
  },
  {
   "cell_type": "code",
   "execution_count": 9,
   "id": "0fb5b18d",
   "metadata": {},
   "outputs": [
    {
     "data": {
      "text/html": [
       "<div>\n",
       "<style scoped>\n",
       "    .dataframe tbody tr th:only-of-type {\n",
       "        vertical-align: middle;\n",
       "    }\n",
       "\n",
       "    .dataframe tbody tr th {\n",
       "        vertical-align: top;\n",
       "    }\n",
       "\n",
       "    .dataframe thead th {\n",
       "        text-align: right;\n",
       "    }\n",
       "</style>\n",
       "<table border=\"1\" class=\"dataframe\">\n",
       "  <thead>\n",
       "    <tr style=\"text-align: right;\">\n",
       "      <th></th>\n",
       "      <th>Name</th>\n",
       "      <th>Social Security Number</th>\n",
       "      <th>Email</th>\n",
       "      <th>Phone number</th>\n",
       "      <th>Country</th>\n",
       "    </tr>\n",
       "  </thead>\n",
       "  <tbody>\n",
       "    <tr>\n",
       "      <th>0</th>\n",
       "      <td>Thomas Cooke</td>\n",
       "      <td>741-38-7563</td>\n",
       "      <td>doylejack@example.net</td>\n",
       "      <td>+1-716-661-0066</td>\n",
       "      <td>Estonia</td>\n",
       "    </tr>\n",
       "    <tr>\n",
       "      <th>1</th>\n",
       "      <td>Christopher Hicks</td>\n",
       "      <td>038-38-0133</td>\n",
       "      <td>bradleypatricia@example.com</td>\n",
       "      <td>646.266.5755x8857</td>\n",
       "      <td>Slovakia (Slovak Republic)</td>\n",
       "    </tr>\n",
       "    <tr>\n",
       "      <th>2</th>\n",
       "      <td>Carrie Aguirre</td>\n",
       "      <td>718-97-6493</td>\n",
       "      <td>heatherallen@example.net</td>\n",
       "      <td>(965)542-2865x67180</td>\n",
       "      <td>Palestinian Territory</td>\n",
       "    </tr>\n",
       "    <tr>\n",
       "      <th>3</th>\n",
       "      <td>Tommy Klein</td>\n",
       "      <td>476-87-4020</td>\n",
       "      <td>jjones@example.net</td>\n",
       "      <td>2956698160</td>\n",
       "      <td>Ireland</td>\n",
       "    </tr>\n",
       "    <tr>\n",
       "      <th>4</th>\n",
       "      <td>Renee Wade</td>\n",
       "      <td>771-87-3011</td>\n",
       "      <td>tescobar@example.net</td>\n",
       "      <td>8549447933</td>\n",
       "      <td>Saint Lucia</td>\n",
       "    </tr>\n",
       "  </tbody>\n",
       "</table>\n",
       "</div>"
      ],
      "text/plain": [
       "                Name Social Security Number                        Email  \\\n",
       "0       Thomas Cooke            741-38-7563        doylejack@example.net   \n",
       "1  Christopher Hicks            038-38-0133  bradleypatricia@example.com   \n",
       "2     Carrie Aguirre            718-97-6493     heatherallen@example.net   \n",
       "3        Tommy Klein            476-87-4020           jjones@example.net   \n",
       "4         Renee Wade            771-87-3011         tescobar@example.net   \n",
       "\n",
       "          Phone number                     Country  \n",
       "0      +1-716-661-0066                     Estonia  \n",
       "1    646.266.5755x8857  Slovakia (Slovak Republic)  \n",
       "2  (965)542-2865x67180       Palestinian Territory  \n",
       "3           2956698160                     Ireland  \n",
       "4           8549447933                 Saint Lucia  "
      ]
     },
     "execution_count": 9,
     "metadata": {},
     "output_type": "execute_result"
    }
   ],
   "source": [
    "# Original dataset \n",
    "dataset.head() "
   ]
  },
  {
   "cell_type": "code",
   "execution_count": 10,
   "id": "74014076",
   "metadata": {},
   "outputs": [
    {
     "data": {
      "text/html": [
       "<div>\n",
       "<style scoped>\n",
       "    .dataframe tbody tr th:only-of-type {\n",
       "        vertical-align: middle;\n",
       "    }\n",
       "\n",
       "    .dataframe tbody tr th {\n",
       "        vertical-align: top;\n",
       "    }\n",
       "\n",
       "    .dataframe thead th {\n",
       "        text-align: right;\n",
       "    }\n",
       "</style>\n",
       "<table border=\"1\" class=\"dataframe\">\n",
       "  <thead>\n",
       "    <tr style=\"text-align: right;\">\n",
       "      <th></th>\n",
       "      <th>Name</th>\n",
       "      <th>Social Security Number</th>\n",
       "      <th>Email</th>\n",
       "      <th>Phone number</th>\n",
       "      <th>Country</th>\n",
       "    </tr>\n",
       "  </thead>\n",
       "  <tbody>\n",
       "    <tr>\n",
       "      <th>0</th>\n",
       "      <td>qHUeFRkvrnGY</td>\n",
       "      <td>gWp3xMtKrx4</td>\n",
       "      <td>example@gmail.com</td>\n",
       "      <td>**********</td>\n",
       "      <td>Estonia</td>\n",
       "    </tr>\n",
       "    <tr>\n",
       "      <th>1</th>\n",
       "      <td>EU4cUGWANO9UN9FRO</td>\n",
       "      <td>XDaJ5F7ZNpc</td>\n",
       "      <td>example@gmail.com</td>\n",
       "      <td>**********</td>\n",
       "      <td>Slovakia (Slovak Republic)</td>\n",
       "    </tr>\n",
       "    <tr>\n",
       "      <th>2</th>\n",
       "      <td>YcBjzxjr9LhoHz</td>\n",
       "      <td>ICtIlpxOUfP</td>\n",
       "      <td>example@gmail.com</td>\n",
       "      <td>**********</td>\n",
       "      <td>Palestinian Territory</td>\n",
       "    </tr>\n",
       "    <tr>\n",
       "      <th>3</th>\n",
       "      <td>FZcQixWd0SJ</td>\n",
       "      <td>nhhASoQywb0</td>\n",
       "      <td>example@gmail.com</td>\n",
       "      <td>**********</td>\n",
       "      <td>Ireland</td>\n",
       "    </tr>\n",
       "    <tr>\n",
       "      <th>4</th>\n",
       "      <td>9S7fJypqLv</td>\n",
       "      <td>MBiuyfouZDo</td>\n",
       "      <td>example@gmail.com</td>\n",
       "      <td>**********</td>\n",
       "      <td>Saint Lucia</td>\n",
       "    </tr>\n",
       "  </tbody>\n",
       "</table>\n",
       "</div>"
      ],
      "text/plain": [
       "                Name Social Security Number              Email Phone number  \\\n",
       "0       qHUeFRkvrnGY            gWp3xMtKrx4  example@gmail.com   **********   \n",
       "1  EU4cUGWANO9UN9FRO            XDaJ5F7ZNpc  example@gmail.com   **********   \n",
       "2     YcBjzxjr9LhoHz            ICtIlpxOUfP  example@gmail.com   **********   \n",
       "3        FZcQixWd0SJ            nhhASoQywb0  example@gmail.com   **********   \n",
       "4         9S7fJypqLv            MBiuyfouZDo  example@gmail.com   **********   \n",
       "\n",
       "                      Country  \n",
       "0                     Estonia  \n",
       "1  Slovakia (Slovak Republic)  \n",
       "2       Palestinian Territory  \n",
       "3                     Ireland  \n",
       "4                 Saint Lucia  "
      ]
     },
     "execution_count": 10,
     "metadata": {},
     "output_type": "execute_result"
    }
   ],
   "source": [
    "# Masked dataset\n",
    "masked_data.head()"
   ]
  },
  {
   "cell_type": "code",
   "execution_count": null,
   "id": "73bff45c",
   "metadata": {},
   "outputs": [],
   "source": []
  }
 ],
 "metadata": {
  "kernelspec": {
   "display_name": "Python 3 (ipykernel)",
   "language": "python",
   "name": "python3"
  },
  "language_info": {
   "codemirror_mode": {
    "name": "ipython",
    "version": 3
   },
   "file_extension": ".py",
   "mimetype": "text/x-python",
   "name": "python",
   "nbconvert_exporter": "python",
   "pygments_lexer": "ipython3",
   "version": "3.9.12"
  }
 },
 "nbformat": 4,
 "nbformat_minor": 5
}
